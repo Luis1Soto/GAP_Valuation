{
 "cells": [
  {
   "cell_type": "markdown",
   "id": "a401a5c6750f8376",
   "metadata": {},
   "source": [
    "# Analisis Financiero\n",
    "\n",
    "En el presente notebook se cargaran los datos de el balance Sheet de Grupo Aeroportuario del Pacifico SAB de CV 'GAP'\n",
    "\n",
    "Authors:\n",
    "- Sofia Hernandez\n",
    "- Alejandra Figueroa\n",
    "- Luis Soto\n",
    "- Luis Robles\n",
    "- Manuel Reyna"
   ]
  },
  {
   "cell_type": "markdown",
   "id": "feb48869b3408b49",
   "metadata": {},
   "source": [
    "### Importamos librerias y cargamos datos"
   ]
  },
  {
   "cell_type": "code",
   "execution_count": 2,
   "id": "837e94a1ccaf3624",
   "metadata": {
    "jupyter": {
     "is_executing": true
    }
   },
   "outputs": [],
   "source": [
    "import pandas as pd"
   ]
  },
  {
   "cell_type": "code",
   "execution_count": 58,
   "id": "3b186713dae37a66",
   "metadata": {
    "jupyter": {
     "is_executing": true
    }
   },
   "outputs": [
    {
     "data": {
      "text/html": [
       "<div>\n",
       "<style scoped>\n",
       "    .dataframe tbody tr th:only-of-type {\n",
       "        vertical-align: middle;\n",
       "    }\n",
       "\n",
       "    .dataframe tbody tr th {\n",
       "        vertical-align: top;\n",
       "    }\n",
       "\n",
       "    .dataframe thead th {\n",
       "        text-align: right;\n",
       "    }\n",
       "</style>\n",
       "<table border=\"1\" class=\"dataframe\">\n",
       "  <thead>\n",
       "    <tr style=\"text-align: right;\">\n",
       "      <th></th>\n",
       "      <th>Cuentas</th>\n",
       "      <th>DEC '24</th>\n",
       "      <th>DEC '23</th>\n",
       "      <th>DEC '22</th>\n",
       "      <th>DEC '21</th>\n",
       "    </tr>\n",
       "  </thead>\n",
       "  <tbody>\n",
       "    <tr>\n",
       "      <th>1</th>\n",
       "      <td>Assets</td>\n",
       "      <td>NaN</td>\n",
       "      <td>NaN</td>\n",
       "      <td>NaN</td>\n",
       "      <td>NaN</td>\n",
       "    </tr>\n",
       "    <tr>\n",
       "      <th>2</th>\n",
       "      <td>Cash &amp; Short-Term Investments</td>\n",
       "      <td>647.6</td>\n",
       "      <td>593.8</td>\n",
       "      <td>634.8</td>\n",
       "      <td>651.5</td>\n",
       "    </tr>\n",
       "    <tr>\n",
       "      <th>3</th>\n",
       "      <td>Cash Only</td>\n",
       "      <td>647.6</td>\n",
       "      <td>593.8</td>\n",
       "      <td>634.8</td>\n",
       "      <td>651.5</td>\n",
       "    </tr>\n",
       "    <tr>\n",
       "      <th>4</th>\n",
       "      <td>Short-Term Receivables</td>\n",
       "      <td>191.8</td>\n",
       "      <td>205.7</td>\n",
       "      <td>153.7</td>\n",
       "      <td>137.4</td>\n",
       "    </tr>\n",
       "    <tr>\n",
       "      <th>5</th>\n",
       "      <td>Accounts Receivables, Net</td>\n",
       "      <td>129.7</td>\n",
       "      <td>132.9</td>\n",
       "      <td>121.5</td>\n",
       "      <td>84.1</td>\n",
       "    </tr>\n",
       "    <tr>\n",
       "      <th>...</th>\n",
       "      <td>...</td>\n",
       "      <td>...</td>\n",
       "      <td>...</td>\n",
       "      <td>...</td>\n",
       "      <td>...</td>\n",
       "    </tr>\n",
       "    <tr>\n",
       "      <th>69</th>\n",
       "      <td>Total Liabilities &amp; Shareholders' Equity</td>\n",
       "      <td>NaN</td>\n",
       "      <td>NaN</td>\n",
       "      <td>NaN</td>\n",
       "      <td>NaN</td>\n",
       "    </tr>\n",
       "    <tr>\n",
       "      <th>70</th>\n",
       "      <td>Per Share</td>\n",
       "      <td>NaN</td>\n",
       "      <td>NaN</td>\n",
       "      <td>NaN</td>\n",
       "      <td>NaN</td>\n",
       "    </tr>\n",
       "    <tr>\n",
       "      <th>71</th>\n",
       "      <td>Book Value per Share</td>\n",
       "      <td>NaN</td>\n",
       "      <td>23.12</td>\n",
       "      <td>18.93</td>\n",
       "      <td>18.4</td>\n",
       "    </tr>\n",
       "    <tr>\n",
       "      <th>72</th>\n",
       "      <td>Tangible Book Value per Share</td>\n",
       "      <td>NaN</td>\n",
       "      <td>-26.75</td>\n",
       "      <td>-14.88</td>\n",
       "      <td>-10.27</td>\n",
       "    </tr>\n",
       "    <tr>\n",
       "      <th>73</th>\n",
       "      <td>All figures in millions of U.S. Dollar except ...</td>\n",
       "      <td>NaN</td>\n",
       "      <td>NaN</td>\n",
       "      <td>NaN</td>\n",
       "      <td>NaN</td>\n",
       "    </tr>\n",
       "  </tbody>\n",
       "</table>\n",
       "<p>73 rows × 5 columns</p>\n",
       "</div>"
      ],
      "text/plain": [
       "                                              Cuentas DEC '24 DEC '23 DEC '22  \\\n",
       "1                                              Assets     NaN     NaN     NaN   \n",
       "2                       Cash & Short-Term Investments   647.6   593.8   634.8   \n",
       "3                                           Cash Only   647.6   593.8   634.8   \n",
       "4                              Short-Term Receivables   191.8   205.7   153.7   \n",
       "5                           Accounts Receivables, Net   129.7   132.9   121.5   \n",
       "..                                                ...     ...     ...     ...   \n",
       "69           Total Liabilities & Shareholders' Equity     NaN     NaN     NaN   \n",
       "70                                          Per Share     NaN     NaN     NaN   \n",
       "71                               Book Value per Share     NaN   23.12   18.93   \n",
       "72                      Tangible Book Value per Share     NaN  -26.75  -14.88   \n",
       "73  All figures in millions of U.S. Dollar except ...     NaN     NaN     NaN   \n",
       "\n",
       "   DEC '21  \n",
       "1      NaN  \n",
       "2    651.5  \n",
       "3    651.5  \n",
       "4    137.4  \n",
       "5     84.1  \n",
       "..     ...  \n",
       "69     NaN  \n",
       "70     NaN  \n",
       "71    18.4  \n",
       "72  -10.27  \n",
       "73     NaN  \n",
       "\n",
       "[73 rows x 5 columns]"
      ]
     },
     "execution_count": 58,
     "metadata": {},
     "output_type": "execute_result"
    }
   ],
   "source": [
    "# Cargar el archivo CSV\n",
    "data = pd.read_csv(\"balance gap.csv\", skiprows=7) # Tomamos a partir de la fila 8 pues ahi vienen los años\n",
    "\n",
    "data = data.iloc[1:] #eliminamos la primera fila pues estaba llena de NaNs\n",
    "\n",
    "#haremos el analisis a partir de 2021, por lo que eliminamos los demas años\n",
    "data = data.iloc[:, :-6]\n",
    "\n",
    "# Renombrar la primera columna\n",
    "data.rename(columns={data.columns[0]: \"Cuentas\"}, inplace=True)\n",
    "\n",
    "# Convertir las filas de valores (excepto la columna 'Cuentas') a numérico\n",
    "data.iloc[:, 1:] = data.iloc[:, 1:].apply(pd.to_numeric, errors='coerce')\n",
    "\n",
    "data"
   ]
  },
  {
   "cell_type": "markdown",
   "id": "30835a82-dc96-45b3-b03c-66fad1740c98",
   "metadata": {},
   "source": [
    "## Razones de Liquidez"
   ]
  },
  {
   "cell_type": "markdown",
   "id": "f0a66cb1-8ac4-4dbe-9318-6a1ae07bb396",
   "metadata": {},
   "source": [
    "Las razones de liquidez son indicadores financieros que miden la capacidad de una empresa para cumplir con sus obligaciones de corto plazo utilizando sus activos líquidos. \n",
    "\n",
    "Estas razones ayudan a evaluar la solvencia de una empresa y su capacidad para pagar deudas a corto plazo sin necesidad de vender activos a largo plazo o buscar financiamiento adicional.  \n",
    "\n",
    "1. **Razón Circulante**:  \n",
    "   Mide la capacidad de la empresa para cubrir sus pasivos circulantes con sus activos corrientes.  \n",
    "   $$\n",
    "   \\text{Razón Circulante} = \\frac{\\text{Activo Circulante}}{\\text{Pasivo Circulante}}\n",
    "   $$  \n",
    "\n",
    "2. **Prueba Ácida (Quick Ratio)**:  \n",
    "   Excluye los inventarios de los activos corrientes para medir la liquidez más estricta.  \n",
    "   $$\n",
    "   \\text{Prueba Ácida} = \\frac{\\text{Activo Circulante} - \\text{Inventarios}}{\\text{Pasivo Curculante}}\n",
    "   $$  \n",
    "\n",
    "3. **Razón de Efectivo**:\n",
    "    Sirve para ver que tan liquidas son las inversiones a corto plazo.\n",
    "   $$\n",
    "\\text{Razón de Efectivo} = \\frac{\\text{Dinero en Caja}}{\\text{Pasivo Curculante}}\n",
    "   $$\n",
    "\n",
    "\n",
    "5. **Razón de Capital de Trabajo**:  \n",
    "   Evalúa la diferencia entre activos y pasivos corrientes.  \n",
    "   $$\n",
    "   \\text{Capital de Trabajo} = \\text{Activo Corriente} - \\text{Pasivo Corriente}\n",
    "   $$  "
   ]
  },
  {
   "cell_type": "markdown",
   "id": "06e35556-db10-4dd8-b445-308b1226b4ac",
   "metadata": {},
   "source": [
    "#### Razón circulante"
   ]
  },
  {
   "cell_type": "code",
   "execution_count": 79,
   "id": "921842ce-4795-4bde-a517-64579cb38db7",
   "metadata": {},
   "outputs": [
    {
     "name": "stdout",
     "output_type": "stream",
     "text": [
      "Razón Criculante para cada año:\n",
      "DEC '24: 0.8548157198126655\n",
      "DEC '23: 1.1343701835505113\n",
      "DEC '22: 2.241622078287806\n",
      "DEC '21: 1.751256830601093\n"
     ]
    }
   ],
   "source": [
    "assets = data[data['Cuentas'].str.contains('Total Current Assets', case=False, na=False)]\n",
    "liabilities = data[data['Cuentas'].str.contains('Total Current Liabilities', case=False, na=False)]\n",
    "\n",
    "# tomar los valores que necesitamos para las razones\n",
    "total_assets = assets.iloc[0, 1:]\n",
    "total_liabilities = liabilities.iloc[0, 1:]\n",
    "\n",
    "# calcular la razon\n",
    "razon_circ = total_assets / total_liabilities\n",
    "\n",
    "# resultados\n",
    "print(\"Razón Criculante para cada año:\")\n",
    "for year, ratio in zip(razon_circ.index, razon_circ):\n",
    "    print(f\"{year}: {ratio}\")"
   ]
  },
  {
   "cell_type": "markdown",
   "id": "490fad7f-0ced-46b1-ba0a-d284afaeb948",
   "metadata": {},
   "source": [
    "En 2024, la razón baja a 0.85, lo que significa que la empresa tiene menos activos para cubrir sus deudas a corto plazo.\n",
    "En 2023, 2022 y 2021, la razón fue mayor a 1, lo que indica que la empresa estaba en mejor situación para pagar sus deudas inmediatas.\n",
    "La caída en 2024 sugiere una posible preocupación por la liquidez."
   ]
  },
  {
   "cell_type": "markdown",
   "id": "94ab026a-e009-4910-a8c2-447efd2dacc8",
   "metadata": {},
   "source": [
    "#### Prueba Acida"
   ]
  },
  {
   "cell_type": "code",
   "execution_count": 85,
   "id": "6d09ebab-e918-478e-9e83-019f5e4937e4",
   "metadata": {},
   "outputs": [
    {
     "data": {
      "text/html": [
       "<div>\n",
       "<style scoped>\n",
       "    .dataframe tbody tr th:only-of-type {\n",
       "        vertical-align: middle;\n",
       "    }\n",
       "\n",
       "    .dataframe tbody tr th {\n",
       "        vertical-align: top;\n",
       "    }\n",
       "\n",
       "    .dataframe thead th {\n",
       "        text-align: right;\n",
       "    }\n",
       "</style>\n",
       "<table border=\"1\" class=\"dataframe\">\n",
       "  <thead>\n",
       "    <tr style=\"text-align: right;\">\n",
       "      <th></th>\n",
       "      <th>Cuentas</th>\n",
       "      <th>DEC '24</th>\n",
       "      <th>DEC '23</th>\n",
       "      <th>DEC '22</th>\n",
       "      <th>DEC '21</th>\n",
       "    </tr>\n",
       "  </thead>\n",
       "  <tbody>\n",
       "  </tbody>\n",
       "</table>\n",
       "</div>"
      ],
      "text/plain": [
       "Empty DataFrame\n",
       "Columns: [Cuentas, DEC '24, DEC '23, DEC '22, DEC '21]\n",
       "Index: []"
      ]
     },
     "execution_count": 85,
     "metadata": {},
     "output_type": "execute_result"
    }
   ],
   "source": [
    "inventories = data[data['Cuentas'].str.contains('Inventories', case=False, na=False)]\n",
    "inventories"
   ]
  },
  {
   "cell_type": "markdown",
   "id": "a02b3cf8-3e71-4e24-b478-18ab98edadf4",
   "metadata": {},
   "source": [
    "Como podemos GAP (Grupo Aeroportuario del Pacífico) no tiene inventarios porque es una empresa de servicios dedicada a la operación de aeropuertos, no a la venta de productos físicos."
   ]
  },
  {
   "cell_type": "markdown",
   "id": "3f6485d3-2f75-45f1-bac1-664dda857a6a",
   "metadata": {},
   "source": [
    "#### Razon de Efectivo"
   ]
  },
  {
   "cell_type": "code",
   "execution_count": 95,
   "id": "6f684454-6d0e-4841-a3b2-55a0eadf779d",
   "metadata": {},
   "outputs": [
    {
     "data": {
      "text/html": [
       "<div>\n",
       "<style scoped>\n",
       "    .dataframe tbody tr th:only-of-type {\n",
       "        vertical-align: middle;\n",
       "    }\n",
       "\n",
       "    .dataframe tbody tr th {\n",
       "        vertical-align: top;\n",
       "    }\n",
       "\n",
       "    .dataframe thead th {\n",
       "        text-align: right;\n",
       "    }\n",
       "</style>\n",
       "<table border=\"1\" class=\"dataframe\">\n",
       "  <thead>\n",
       "    <tr style=\"text-align: right;\">\n",
       "      <th></th>\n",
       "      <th>Cuentas</th>\n",
       "      <th>DEC '24</th>\n",
       "      <th>DEC '23</th>\n",
       "      <th>DEC '22</th>\n",
       "      <th>DEC '21</th>\n",
       "    </tr>\n",
       "  </thead>\n",
       "  <tbody>\n",
       "    <tr>\n",
       "      <th>3</th>\n",
       "      <td>Cash Only</td>\n",
       "      <td>647.6</td>\n",
       "      <td>593.8</td>\n",
       "      <td>634.8</td>\n",
       "      <td>651.5</td>\n",
       "    </tr>\n",
       "  </tbody>\n",
       "</table>\n",
       "</div>"
      ],
      "text/plain": [
       "     Cuentas DEC '24 DEC '23 DEC '22 DEC '21\n",
       "3  Cash Only   647.6   593.8   634.8   651.5"
      ]
     },
     "execution_count": 95,
     "metadata": {},
     "output_type": "execute_result"
    }
   ],
   "source": [
    "cash = data[data['Cuentas'].str.contains('Cash Only', case=False, na=False)]\n",
    "cash"
   ]
  },
  {
   "cell_type": "markdown",
   "id": "84890987-8b0e-423a-a1c0-f58e54f4b39a",
   "metadata": {},
   "source": [
    "Para esta razon vamos a tomar el Cash ya que no sabemos que tan liquidaz son sus inversiones a corto plazo."
   ]
  },
  {
   "cell_type": "code",
   "execution_count": 100,
   "id": "88c26aa2-7933-4e8b-8347-062c35589709",
   "metadata": {},
   "outputs": [
    {
     "name": "stdout",
     "output_type": "stream",
     "text": [
      "Razón de Efectivo para cada año:\n",
      "DEC '24: 0.6593361840765628\n",
      "DEC '23: 0.8320022418383073\n",
      "DEC '22: 1.7876654463531396\n",
      "DEC '21: 1.4240437158469945\n"
     ]
    }
   ],
   "source": [
    "total_cash = cash.iloc[0, 1:]\n",
    "\n",
    "razon_efectivo = total_cash / total_liabilities\n",
    "\n",
    "print(\"Razón de Efectivo para cada año:\")\n",
    "for year, ratio in zip(razon_efectivo.index, razon_efectivo):\n",
    "    print(f\"{year}: {ratio}\")"
   ]
  },
  {
   "cell_type": "markdown",
   "id": "41080ba5-9630-4a55-86b1-b3ba33b862fa",
   "metadata": {},
   "source": [
    "En 2024, la razón baja a 0.66, indicando que tiene menos efectivo disponible para pagar deudas inmediatas. En 2023, 2022 y 2021, la razón era más alta, lo que sugiere que la empresa tenía una mayor capacidad para cubrir sus obligaciones con efectivo. La caída en 2024 puede reflejar una disminución en la liquidez."
   ]
  },
  {
   "cell_type": "markdown",
   "id": "26d546f6-4380-431a-b8ab-0d8e1b18f948",
   "metadata": {},
   "source": [
    "### Razón de Capital de Trabajo"
   ]
  },
  {
   "cell_type": "code",
   "execution_count": 106,
   "id": "2607f246-33b5-4f8d-9a73-88cd55d81a10",
   "metadata": {},
   "outputs": [
    {
     "name": "stdout",
     "output_type": "stream",
     "text": [
      "Razón Capital de Trabajo para cada año:\n",
      "DEC '24: -142.60000000000002\n",
      "DEC '23: 95.89999999999998\n",
      "DEC '22: 440.9\n",
      "DEC '21: 343.70000000000005\n"
     ]
    }
   ],
   "source": [
    "razon_cap_trabajo = total_assets - total_liabilities\n",
    "\n",
    "# resultados\n",
    "print(\"Razón Capital de Trabajo para cada año:\")\n",
    "for year, ratio in zip(razon_cap_trabajo.index, razon_cap_trabajo):\n",
    "    print(f\"{year}: {ratio}\")"
   ]
  },
  {
   "cell_type": "markdown",
   "id": "9e8f5a7f-a931-4640-80ac-2b9451307d50",
   "metadata": {},
   "source": [
    "En 2024, es negativa (-142.6), lo que significa que la empresa tiene más deudas a corto plazo que activos disponibles para cubrirlas, lo que puede ser preocupante."
   ]
  },
  {
   "cell_type": "markdown",
   "id": "47d7a47e-19aa-4bfb-9e49-73b64899851c",
   "metadata": {},
   "source": [
    "## Razones de Rentabilidad"
   ]
  },
  {
   "cell_type": "code",
   "execution_count": null,
   "id": "47275d80-6c45-4199-a370-c1db7fb4a2d0",
   "metadata": {},
   "outputs": [],
   "source": []
  }
 ],
 "metadata": {
  "kernelspec": {
   "display_name": "Python [conda env:base] *",
   "language": "python",
   "name": "conda-base-py"
  },
  "language_info": {
   "codemirror_mode": {
    "name": "ipython",
    "version": 3
   },
   "file_extension": ".py",
   "mimetype": "text/x-python",
   "name": "python",
   "nbconvert_exporter": "python",
   "pygments_lexer": "ipython3",
   "version": "3.12.7"
  }
 },
 "nbformat": 4,
 "nbformat_minor": 5
}
