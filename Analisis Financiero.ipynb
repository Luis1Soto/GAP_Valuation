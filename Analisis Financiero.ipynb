{
 "cells": [
  {
   "metadata": {},
   "cell_type": "markdown",
   "source": [
    "# Analisis Financiero\n",
    "\n",
    "En el presente notebook se cargaran los datos de el balance Sheet de Grupo Aeroportuario del Pacifico SAB de CV 'GAP'\n",
    "\n",
    "Authors:\n",
    "- Sofia Hernandez\n",
    "- Alejandra Figueroa\n",
    "- Luis Soto\n",
    "- Luis Robles\n",
    "- Manuel Reyna"
   ],
   "id": "a401a5c6750f8376"
  },
  {
   "metadata": {},
   "cell_type": "markdown",
   "source": "### Importamos librerias y cargamos datos",
   "id": "feb48869b3408b49"
  },
  {
   "metadata": {
    "jupyter": {
     "is_executing": true
    }
   },
   "cell_type": "code",
   "source": "import pandas as pd",
   "id": "837e94a1ccaf3624",
   "outputs": [],
   "execution_count": null
  },
  {
   "metadata": {
    "jupyter": {
     "is_executing": true
    }
   },
   "cell_type": "code",
   "source": [
    "# Cargar el archivo CSV\n",
    "data = pd.read_csv(\"balance gap.csv\")\n",
    "\n",
    "print(data)"
   ],
   "id": "3b186713dae37a66",
   "outputs": [],
   "execution_count": null
  },
  {
   "metadata": {},
   "cell_type": "code",
   "outputs": [],
   "execution_count": null,
   "source": "",
   "id": "bbf5c90f954e838d"
  }
 ],
 "metadata": {
  "kernelspec": {
   "display_name": "Python 3",
   "language": "python",
   "name": "python3"
  },
  "language_info": {
   "codemirror_mode": {
    "name": "ipython",
    "version": 2
   },
   "file_extension": ".py",
   "mimetype": "text/x-python",
   "name": "python",
   "nbconvert_exporter": "python",
   "pygments_lexer": "ipython2",
   "version": "2.7.6"
  }
 },
 "nbformat": 4,
 "nbformat_minor": 5
}
